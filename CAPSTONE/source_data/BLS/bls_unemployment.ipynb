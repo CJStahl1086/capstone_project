{
 "cells": [
  {
   "cell_type": "code",
   "execution_count": 3,
   "id": "0173a6b8",
   "metadata": {},
   "outputs": [],
   "source": [
    "import pandas as pd\n",
    "import numpy as np"
   ]
  },
  {
   "cell_type": "code",
   "execution_count": 26,
   "id": "e9a433a1",
   "metadata": {},
   "outputs": [],
   "source": [
    "#importing average annual unemployment rates by state 1980-2018 (Bureau of Labor & Statistics)\n",
    "# https://www.icip.iastate.edu/tables/employment/unemployment-states\n",
    "\n",
    "bls = pd.read_excel('emp-unemployment.xls', sheet_name='States', skiprows=5)"
   ]
  },
  {
   "cell_type": "code",
   "execution_count": 27,
   "id": "12033bd5",
   "metadata": {},
   "outputs": [
    {
     "data": {
      "text/html": [
       "<div>\n",
       "<style scoped>\n",
       "    .dataframe tbody tr th:only-of-type {\n",
       "        vertical-align: middle;\n",
       "    }\n",
       "\n",
       "    .dataframe tbody tr th {\n",
       "        vertical-align: top;\n",
       "    }\n",
       "\n",
       "    .dataframe thead th {\n",
       "        text-align: right;\n",
       "    }\n",
       "</style>\n",
       "<table border=\"1\" class=\"dataframe\">\n",
       "  <thead>\n",
       "    <tr style=\"text-align: right;\">\n",
       "      <th></th>\n",
       "      <th>state</th>\n",
       "      <th>fy</th>\n",
       "      <th>unemployment</th>\n",
       "    </tr>\n",
       "  </thead>\n",
       "  <tbody>\n",
       "    <tr>\n",
       "      <th>0</th>\n",
       "      <td>U.S.</td>\n",
       "      <td>1980</td>\n",
       "      <td>7.1</td>\n",
       "    </tr>\n",
       "    <tr>\n",
       "      <th>1</th>\n",
       "      <td>Alabama</td>\n",
       "      <td>1980</td>\n",
       "      <td>8.9</td>\n",
       "    </tr>\n",
       "    <tr>\n",
       "      <th>2</th>\n",
       "      <td>Alaska</td>\n",
       "      <td>1980</td>\n",
       "      <td>9.6</td>\n",
       "    </tr>\n",
       "    <tr>\n",
       "      <th>3</th>\n",
       "      <td>Arizona</td>\n",
       "      <td>1980</td>\n",
       "      <td>6.6</td>\n",
       "    </tr>\n",
       "    <tr>\n",
       "      <th>4</th>\n",
       "      <td>Arkansas</td>\n",
       "      <td>1980</td>\n",
       "      <td>7.6</td>\n",
       "    </tr>\n",
       "    <tr>\n",
       "      <th>...</th>\n",
       "      <td>...</td>\n",
       "      <td>...</td>\n",
       "      <td>...</td>\n",
       "    </tr>\n",
       "    <tr>\n",
       "      <th>1984</th>\n",
       "      <td>Virginia</td>\n",
       "      <td>2018</td>\n",
       "      <td>3.0</td>\n",
       "    </tr>\n",
       "    <tr>\n",
       "      <th>1985</th>\n",
       "      <td>Washington</td>\n",
       "      <td>2018</td>\n",
       "      <td>4.5</td>\n",
       "    </tr>\n",
       "    <tr>\n",
       "      <th>1986</th>\n",
       "      <td>West Virginia</td>\n",
       "      <td>2018</td>\n",
       "      <td>5.3</td>\n",
       "    </tr>\n",
       "    <tr>\n",
       "      <th>1987</th>\n",
       "      <td>Wisconsin</td>\n",
       "      <td>2018</td>\n",
       "      <td>3.0</td>\n",
       "    </tr>\n",
       "    <tr>\n",
       "      <th>1988</th>\n",
       "      <td>Wyoming</td>\n",
       "      <td>2018</td>\n",
       "      <td>4.1</td>\n",
       "    </tr>\n",
       "  </tbody>\n",
       "</table>\n",
       "<p>1989 rows × 3 columns</p>\n",
       "</div>"
      ],
      "text/plain": [
       "              state    fy  unemployment\n",
       "0              U.S.  1980           7.1\n",
       "1           Alabama  1980           8.9\n",
       "2            Alaska  1980           9.6\n",
       "3           Arizona  1980           6.6\n",
       "4          Arkansas  1980           7.6\n",
       "...             ...   ...           ...\n",
       "1984       Virginia  2018           3.0\n",
       "1985     Washington  2018           4.5\n",
       "1986  West Virginia  2018           5.3\n",
       "1987      Wisconsin  2018           3.0\n",
       "1988        Wyoming  2018           4.1\n",
       "\n",
       "[1989 rows x 3 columns]"
      ]
     },
     "execution_count": 27,
     "metadata": {},
     "output_type": "execute_result"
    }
   ],
   "source": [
    "bls = bls.dropna(subset='Area')\n",
    "bls = bls.drop(labels='Fips', axis=1)\n",
    "bls = bls.loc[bls['Area'] != 'District of Columbia']\n",
    "bls['Area'] = np.where(bls['Area'] == 'United States','U.S.',bls['Area'])\n",
    "bls = bls.rename(columns={'Area':'state'})\n",
    "bls = bls.melt(id_vars=['state'], var_name=['fy'], value_name='unemployment')\n",
    "bls"
   ]
  },
  {
   "cell_type": "code",
   "execution_count": 28,
   "id": "533bb13e",
   "metadata": {},
   "outputs": [],
   "source": [
    "bls.to_csv('unemployment.csv')"
   ]
  }
 ],
 "metadata": {
  "kernelspec": {
   "display_name": "Python 3 (ipykernel)",
   "language": "python",
   "name": "python3"
  },
  "language_info": {
   "codemirror_mode": {
    "name": "ipython",
    "version": 3
   },
   "file_extension": ".py",
   "mimetype": "text/x-python",
   "name": "python",
   "nbconvert_exporter": "python",
   "pygments_lexer": "ipython3",
   "version": "3.9.12"
  }
 },
 "nbformat": 4,
 "nbformat_minor": 5
}
